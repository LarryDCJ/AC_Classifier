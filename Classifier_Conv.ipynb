{
  "nbformat": 4,
  "nbformat_minor": 0,
  "metadata": {
    "colab": {
      "name": "Classifier_Conv.ipynb",
      "provenance": [],
      "collapsed_sections": [],
      "mount_file_id": "1vB4C_aW-ffL2MU5zecTlzdEhuFVFX31Q",
      "authorship_tag": "ABX9TyN6LPQfEMsi4SRIeLXMr1Jp",
      "include_colab_link": true
    },
    "kernelspec": {
      "name": "python3",
      "display_name": "Python 3"
    },
    "language_info": {
      "name": "python"
    },
    "accelerator": "GPU"
  },
  "cells": [
    {
      "cell_type": "markdown",
      "metadata": {
        "id": "view-in-github",
        "colab_type": "text"
      },
      "source": [
        "<a href=\"https://colab.research.google.com/github/LarryDCJ/AC_Classifier/blob/master/Classifier_Conv.ipynb\" target=\"_parent\"><img src=\"https://colab.research.google.com/assets/colab-badge.svg\" alt=\"Open In Colab\"/></a>"
      ]
    },
    {
      "cell_type": "code",
      "metadata": {
        "id": "z4oKyMxqM_Eu"
      },
      "source": [
        "%cd /content/drive/MyDrive/AC_Classifier"
      ],
      "execution_count": null,
      "outputs": []
    },
    {
      "cell_type": "code",
      "metadata": {
        "id": "zOeoZqCuGeGw"
      },
      "source": [
        "!git merge --abort"
      ],
      "execution_count": null,
      "outputs": []
    },
    {
      "cell_type": "code",
      "metadata": {
        "id": "SXQLFAVVGeAF"
      },
      "source": [
        "!git reset --merge"
      ],
      "execution_count": 45,
      "outputs": []
    },
    {
      "cell_type": "code",
      "metadata": {
        "id": "4rNm_wUkGd2P"
      },
      "source": [
        "!git add"
      ],
      "execution_count": null,
      "outputs": []
    },
    {
      "cell_type": "code",
      "metadata": {
        "id": "lsDqqCD5Gld8"
      },
      "source": [
        "! git commit -a"
      ],
      "execution_count": null,
      "outputs": []
    },
    {
      "cell_type": "code",
      "metadata": {
        "id": "cWY1eO9AQMT2"
      },
      "source": [
        "! git config --global user.email \"larrydcj@icloud.com\"\n",
        "! git config --global user.name \"Larry Cawley\"\n"
      ],
      "execution_count": 34,
      "outputs": []
    },
    {
      "cell_type": "code",
      "metadata": {
        "id": "YJEi1lcxjv9m"
      },
      "source": [
        "! git pull https://github.com/LarryDCJ/AC_Classifier"
      ],
      "execution_count": null,
      "outputs": []
    },
    {
      "cell_type": "code",
      "metadata": {
        "id": "UpN-PvIfQ1Jt"
      },
      "source": [
        "! git commit -m \"colab updates\""
      ],
      "execution_count": null,
      "outputs": []
    },
    {
      "cell_type": "code",
      "metadata": {
        "id": "9d9UtXKLDq_8"
      },
      "source": [
        "! git push origin master"
      ],
      "execution_count": null,
      "outputs": []
    },
    {
      "cell_type": "code",
      "metadata": {
        "id": "iw37rOQHNenC"
      },
      "source": [
        "%%capture\n",
        "!pip install fastbook"
      ],
      "execution_count": null,
      "outputs": []
    },
    {
      "cell_type": "code",
      "metadata": {
        "id": "zNCsOjd_z5ox"
      },
      "source": [
        "import re\n",
        "from fastai.data.all import *\n",
        "from fastai.vision.all import *\n",
        "from fastai.metrics import error_rate\n",
        "import pathlib\n",
        "from IPython.display import Image\n",
        "from google.colab import drive\n",
        "import os\n",
        "from fastai.vision.widgets import *\n",
        "from utils import *\n",
        "drive.mount('/content/drive')\n",
        "config_file = Path(\"~/.fastai/config.yml\").expanduser()\n",
        "\n",
        "if config_file.exists(): os.remove(config_file)\n",
        "assert not config_file.exists()\n",
        "config = Config()\n",
        "assert config_file.exists()\n",
        "print(config.d)\n",
        "config['archive_path'] = Path('drive/archive')\n",
        "config['data_path'] = Path('drive/data')\n",
        "config['model_path'] = Path('drive/models')\n",
        "config['storage_path'] = Path('root/tmp')\n",
        "config.save()\n",
        "print(config.d)\n",
        "print(\"Please continue\")"
      ],
      "execution_count": null,
      "outputs": []
    },
    {
      "cell_type": "code",
      "metadata": {
        "id": "iXu0oVMxRy7I"
      },
      "source": [
        "path = Path('/content/drive/MyDrive/AC_Classifier/')\n",
        "print(type(path))\n",
        "path.ls()\n",
        "files = get_image_files(path/\"images\")\n",
        "def label_func(f): return f[0].isupper()\n",
        "print(len(files))\n",
        "print(type(files))"
      ],
      "execution_count": null,
      "outputs": []
    },
    {
      "cell_type": "code",
      "metadata": {
        "id": "S_DW_hFMCOvL"
      },
      "source": [
        "print(files[0].name)\n",
        "#def label_func(f): return re.sub(\"_[^_]+$\", \"\",f) #rename folder based on filename\n",
        "pat = r'^(.*)_\\d+.jpg' #Image Categories from filename"
      ],
      "execution_count": null,
      "outputs": []
    },
    {
      "cell_type": "code",
      "metadata": {
        "id": "XgPOPUVE6KWT"
      },
      "source": [
        "dls = ImageDataLoaders.from_name_re(path,\n",
        "                                    files,\n",
        "                                    pat,\n",
        "                                    item_tfms=RandomResizedCrop(224, min_scale=0.5),\n",
        "                                    batch_tfms=aug_transforms())"
      ],
      "execution_count": null,
      "outputs": []
    },
    {
      "cell_type": "code",
      "metadata": {
        "id": "wW9V2G5ZXXlx"
      },
      "source": [
        "dls.train.show_batch(max_n=8,nrows=2, unique=True)"
      ],
      "execution_count": null,
      "outputs": []
    },
    {
      "cell_type": "code",
      "metadata": {
        "id": "ofo1FLDbVa28"
      },
      "source": [
        "learn = cnn_learner(dls, resnet34, metrics=error_rate)\n",
        "learn.fine_tune(4)"
      ],
      "execution_count": null,
      "outputs": []
    },
    {
      "cell_type": "code",
      "metadata": {
        "id": "MK098EqsZxBV"
      },
      "source": [
        "interp = ClassificationInterpretation.from_learner(learn)\n",
        "interp.plot_confusion_matrix()"
      ],
      "execution_count": null,
      "outputs": []
    },
    {
      "cell_type": "code",
      "metadata": {
        "id": "aFdXQA9bamJB"
      },
      "source": [
        "interp.plot_top_losses(5, nrows=1)"
      ],
      "execution_count": null,
      "outputs": []
    },
    {
      "cell_type": "code",
      "metadata": {
        "id": "whjXcFL7TdRj"
      },
      "source": [
        "cleaner = ImageClassifierCleaner(learn)\n",
        "cleaner"
      ],
      "execution_count": null,
      "outputs": []
    },
    {
      "cell_type": "code",
      "metadata": {
        "id": "mQGWzMiGAL8p"
      },
      "source": [
        "for idx in cleaner.delete(): cleaner.fns[idx].unlink()"
      ],
      "execution_count": null,
      "outputs": []
    },
    {
      "cell_type": "code",
      "metadata": {
        "id": "Gotbd-yTn7CU"
      },
      "source": [
        "learn.lr_find()"
      ],
      "execution_count": null,
      "outputs": []
    },
    {
      "cell_type": "code",
      "metadata": {
        "id": "jtJuD8dBxdwh",
        "colab": {
          "base_uri": "https://localhost:8080/",
          "height": 174
        },
        "outputId": "edfaff5b-d8bd-4d2a-888b-f60e81dce1f3"
      },
      "source": [
        "learn.fine_tune(2, 3e-3)"
      ],
      "execution_count": null,
      "outputs": [
        {
          "output_type": "display_data",
          "data": {
            "text/html": [
              "<table border=\"1\" class=\"dataframe\">\n",
              "  <thead>\n",
              "    <tr style=\"text-align: left;\">\n",
              "      <th>epoch</th>\n",
              "      <th>train_loss</th>\n",
              "      <th>valid_loss</th>\n",
              "      <th>error_rate</th>\n",
              "      <th>time</th>\n",
              "    </tr>\n",
              "  </thead>\n",
              "  <tbody>\n",
              "    <tr>\n",
              "      <td>0</td>\n",
              "      <td>1.294198</td>\n",
              "      <td>1.009054</td>\n",
              "      <td>0.301759</td>\n",
              "      <td>01:04</td>\n",
              "    </tr>\n",
              "  </tbody>\n",
              "</table>"
            ],
            "text/plain": [
              "<IPython.core.display.HTML object>"
            ]
          },
          "metadata": {
            "tags": []
          }
        },
        {
          "output_type": "display_data",
          "data": {
            "text/html": [
              "<table border=\"1\" class=\"dataframe\">\n",
              "  <thead>\n",
              "    <tr style=\"text-align: left;\">\n",
              "      <th>epoch</th>\n",
              "      <th>train_loss</th>\n",
              "      <th>valid_loss</th>\n",
              "      <th>error_rate</th>\n",
              "      <th>time</th>\n",
              "    </tr>\n",
              "  </thead>\n",
              "  <tbody>\n",
              "    <tr>\n",
              "      <td>0</td>\n",
              "      <td>0.509148</td>\n",
              "      <td>1.119417</td>\n",
              "      <td>0.313261</td>\n",
              "      <td>01:07</td>\n",
              "    </tr>\n",
              "    <tr>\n",
              "      <td>1</td>\n",
              "      <td>0.325311</td>\n",
              "      <td>0.868610</td>\n",
              "      <td>0.263870</td>\n",
              "      <td>01:06</td>\n",
              "    </tr>\n",
              "  </tbody>\n",
              "</table>"
            ],
            "text/plain": [
              "<IPython.core.display.HTML object>"
            ]
          },
          "metadata": {
            "tags": []
          }
        }
      ]
    }
  ]
}
