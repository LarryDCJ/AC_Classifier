{
  "nbformat": 4,
  "nbformat_minor": 0,
  "metadata": {
    "colab": {
      "name": "Kaggle-TitanicCompetition.ipynb",
      "provenance": [],
      "mount_file_id": "19zrdErv02W5CTOduzdyDNWm7IJLgkLwu",
      "authorship_tag": "ABX9TyNYhAmP+4U7Fj0wQtoptHq+",
      "include_colab_link": true
    },
    "kernelspec": {
      "name": "python3",
      "display_name": "Python 3"
    },
    "language_info": {
      "name": "python"
    }
  },
  "cells": [
    {
      "cell_type": "markdown",
      "metadata": {
        "id": "view-in-github",
        "colab_type": "text"
      },
      "source": [
        "<a href=\"https://colab.research.google.com/github/LarryDCJ/AC_Classifier/blob/master/Kaggle_TitanicCompetition.ipynb\" target=\"_parent\"><img src=\"https://colab.research.google.com/assets/colab-badge.svg\" alt=\"Open In Colab\"/></a>"
      ]
    },
    {
      "cell_type": "code",
      "metadata": {
        "id": "h9o_1YXYkWNr"
      },
      "source": [
        "from google.colab import drive\n",
        "import os\n",
        "import numpy as np #linear algebra tools\n",
        "import pandas as pd # data processing and CSV manipulation (r/w)\n",
        "drive.mount('/content/drive')\n",
        "os.environ['KAGGLE_CONFIG_DIR'] = \"/content/drive/MyDrive/kaggle\"\n",
        "\n",
        "#changing the working directory\n",
        "%cd /content/drive/MyDrive/kaggle\n",
        "!pwd"
      ],
      "execution_count": null,
      "outputs": []
    },
    {
      "cell_type": "code",
      "metadata": {
        "colab": {
          "base_uri": "https://localhost:8080/"
        },
        "id": "BdPDlSzZ0Iw8",
        "outputId": "bf7e5a6a-e934-4c83-a157-19aa47133d64"
      },
      "source": [
        "!kaggle competitions list"
      ],
      "execution_count": 48,
      "outputs": [
        {
          "output_type": "stream",
          "text": [
            "Warning: Looks like you're using an outdated API Version, please consider updating (server 1.5.12 / client 1.5.4)\n",
            "ref                                                  deadline             category            reward  teamCount  userHasEntered  \n",
            "---------------------------------------------------  -------------------  ---------------  ---------  ---------  --------------  \n",
            "contradictory-my-dear-watson                         2030-07-01 23:59:00  Getting Started     Prizes        235           False  \n",
            "gan-getting-started                                  2030-07-01 23:59:00  Getting Started     Prizes        404           False  \n",
            "tpu-getting-started                                  2030-06-03 23:59:00  Getting Started  Knowledge       1049           False  \n",
            "digit-recognizer                                     2030-01-01 00:00:00  Getting Started  Knowledge       6826           False  \n",
            "titanic                                              2030-01-01 00:00:00  Getting Started  Knowledge      58275            True  \n",
            "house-prices-advanced-regression-techniques          2030-01-01 00:00:00  Getting Started  Knowledge      15463           False  \n",
            "connectx                                             2030-01-01 00:00:00  Getting Started  Knowledge       1101           False  \n",
            "nlp-getting-started                                  2030-01-01 00:00:00  Getting Started  Knowledge       3741           False  \n",
            "competitive-data-science-predict-future-sales        2022-12-31 23:59:00  Playground           Kudos      12236           False  \n",
            "rsna-miccai-brain-tumor-radiogenomic-classification  2021-10-15 23:59:00  Featured           $30,000        296           False  \n",
            "g2net-gravitational-wave-detection                   2021-09-29 23:59:00  Research           $15,000        418           False  \n",
            "optiver-realized-volatility-prediction               2021-09-27 23:59:00  Featured          $100,000       1467           False  \n",
            "mlb-player-digital-engagement-forecasting            2021-09-15 23:59:00  Featured           $50,000        852           False  \n",
            "tabular-playground-series-aug-2021                   2021-08-31 23:59:00  Playground            Swag          5           False  \n",
            "jane-street-market-prediction                        2021-08-23 23:59:00  Featured          $100,000       4245           False  \n",
            "seti-breakthrough-listen                             2021-08-18 23:59:00  Research           $15,000        429           False  \n",
            "hungry-geese                                         2021-08-09 23:59:00  Playground          Prizes        879           False  \n",
            "siim-covid19-detection                               2021-08-09 23:59:00  Featured          $100,000       1187           False  \n",
            "google-smartphone-decimeter-challenge                2021-08-04 23:59:00  Research           $10,000        785           False  \n",
            "commonlitreadabilityprize                            2021-08-02 23:59:00  Featured           $60,000       3587           False  \n"
          ],
          "name": "stdout"
        }
      ]
    },
    {
      "cell_type": "code",
      "metadata": {
        "colab": {
          "base_uri": "https://localhost:8080/"
        },
        "id": "B4Zy5LidnoPP",
        "outputId": "871a835a-0ddb-48cd-dfb2-f47cd0954b7b"
      },
      "source": [
        "!kaggle datasets list -s Titanic"
      ],
      "execution_count": 49,
      "outputs": [
        {
          "output_type": "stream",
          "text": [
            "Warning: Looks like you're using an outdated API Version, please consider updating (server 1.5.12 / client 1.5.4)\n",
            "ref                                                 title                                           size  lastUpdated          downloadCount  \n",
            "--------------------------------------------------  ---------------------------------------------  -----  -------------------  -------------  \n",
            "heptapod/titanic                                    Titanic                                         11KB  2017-05-16 08:14:22          26741  \n",
            "azeembootwala/titanic                               Titanic                                         12KB  2017-06-05 12:14:37          10679  \n",
            "brendan45774/test-file                              Titanic dataset                                 11KB  2021-07-08 17:04:21           5491  \n",
            "rahulsah06/titanic                                  Titanic                                         34KB  2019-09-16 14:43:23           1852  \n",
            "prkukunoor/TitanicDataset                           Titanic                                        135KB  2017-01-03 22:01:13           4185  \n",
            "hesh97/titanicdataset-traincsv                      Titanic-Dataset (train.csv)                     22KB  2018-02-02 04:51:06          45091  \n",
            "broaniki/titanic                                    titanic                                        717KB  2018-01-30 04:08:45           7861  \n",
            "pavlofesenko/titanic-extended                       Titanic extended dataset (Kaggle + Wikipedia)  134KB  2019-03-06 09:53:24           6849  \n",
            "jamesleslie/titanic-cleaned-data                    Titanic: cleaned data                           36KB  2018-11-21 11:50:18           3769  \n",
            "fossouodonald/titaniccsv                            Titanic csv                                      1KB  2016-11-07 09:44:58           6359  \n",
            "kittisaks/testtitanic                               test titanic                                    22KB  2017-03-13 15:13:12           1546  \n",
            "abhinavralhan/titanic                               titanic                                         22KB  2017-07-30 11:07:55            539  \n",
            "cities/titanic123                                   Titanic Dataset Analysis                        22KB  2017-02-07 23:15:54           1301  \n",
            "harunshimanto/titanic-solution-for-beginners-guide  Titanic Solution for Beginner's Guide           34KB  2018-03-12 17:47:06           1260  \n",
            "sureshbhusare/titanic-dataset-from-kaggle           Titanic DataSet from Kaggle                     33KB  2017-10-12 04:49:39           2368  \n",
            "brendan45774/gender-submisson                       Titanic: all ones csv file                      942B  2021-02-12 19:18:32            140  \n",
            "shravanbangera/output                               Titanic Dataset                                  2KB  2020-09-25 05:28:42             93  \n",
            "shuofxz/titanic-machine-learning-from-disaster      Titanic: Machine Learning from Disaster         33KB  2017-10-15 10:05:34           2715  \n",
            "davorbudimir/titanic                                Titanic                                         485B  2020-04-19 13:14:12             85  \n",
            "mahdijavid/datacamptraining                         DataCampTraining(Titanic)                        1KB  2017-01-05 11:36:30            185  \n"
          ],
          "name": "stdout"
        }
      ]
    },
    {
      "cell_type": "code",
      "metadata": {
        "id": "PRHvkW9cpIlc"
      },
      "source": [
        "#User datasets\n",
        "!kaggle datasets download [USER/FILENAME]\n",
        "\n",
        "#I prefer this one\n",
        "!kaggle competitions download -c [COMPETITION]\n",
        "\n",
        "!unzip [FILENAME.zip]\n",
        "!ls"
      ],
      "execution_count": null,
      "outputs": []
    },
    {
      "cell_type": "markdown",
      "metadata": {
        "id": "yY_ME_Z2qhl9"
      },
      "source": [
        "https://towardsdatascience.com/how-to-search-and-download-data-using-kaggle-api-f815f7b98080\n",
        "\n",
        "This is the link for Kaggle+Colab instructions.\n"
      ]
    },
    {
      "cell_type": "code",
      "metadata": {
        "id": "Prh-9RK-rEKH"
      },
      "source": [
        "for dirname, _, filenames in os.walk('/kaggle/):\n",
        "    for filename in filenames:\n",
        "        print(os.path.join(dirname, filename))"
      ],
      "execution_count": null,
      "outputs": []
    },
    {
      "cell_type": "code",
      "metadata": {
        "id": "ZrZBL376r0nT"
      },
      "source": [
        "train_data = pd.read_csv(\"train.csv\")\n",
        "train_data.head()"
      ],
      "execution_count": null,
      "outputs": []
    },
    {
      "cell_type": "code",
      "metadata": {
        "id": "UDwEqOgAvMXk"
      },
      "source": [
        "test_data = pd.read_csv(\"test.csv\")\n",
        "test_data.head()"
      ],
      "execution_count": null,
      "outputs": []
    },
    {
      "cell_type": "code",
      "metadata": {
        "colab": {
          "base_uri": "https://localhost:8080/"
        },
        "id": "PpwYJTyBvoEv",
        "outputId": "f64179e6-3f95-4acf-b9e6-85e1278e34e4"
      },
      "source": [
        "#This code lets us know the % of women that actually survived.\n",
        "#By grabbing all columns from the TRAIN dataset, we can divide the amount of surviving\n",
        "#women by the total amount of women, leaving us with about 74.2%.\n",
        "\n",
        "women = train_data.loc[train_data.Sex == 'female'][\"Survived\"]\n",
        "rate_women = sum(women)/len(women)\n",
        "\n",
        "print(\"% of women who survived:\", rate_women)"
      ],
      "execution_count": 43,
      "outputs": [
        {
          "output_type": "stream",
          "text": [
            "% of women who survived: 0.7420382165605095\n"
          ],
          "name": "stdout"
        }
      ]
    },
    {
      "cell_type": "code",
      "metadata": {
        "colab": {
          "base_uri": "https://localhost:8080/"
        },
        "id": "Dc2XqUnSwYDl",
        "outputId": "b34ae7f2-2bb4-4d1a-fa05-fcb59983fd3c"
      },
      "source": [
        "#This does the same with men, coming to about 18.9% (RIP fellas).\n",
        "\n",
        "men = train_data.loc[train_data.Sex == 'male'][\"Survived\"]\n",
        "rate_men = sum(men)/len(men)\n",
        "\n",
        "print(\"% of men who survived:\", rate_men)"
      ],
      "execution_count": 44,
      "outputs": [
        {
          "output_type": "stream",
          "text": [
            "% of men who survived: 0.18890814558058924\n"
          ],
          "name": "stdout"
        }
      ]
    },
    {
      "cell_type": "markdown",
      "metadata": {
        "id": "hnAAYoqHwhT3"
      },
      "source": [
        "Why do you think the numbers are so heavily favored for women?\n",
        "\n",
        "Questioning your data and the simple metrics gleaned from the data can help guide deeper insight into the problems you have along with the solutions you're searching for."
      ]
    },
    {
      "cell_type": "markdown",
      "metadata": {
        "id": "Cf7XgA8tw9n_"
      },
      "source": [
        "To gain a better prediction, we can use the information from multiple columns rather than only basing our prediction on the sex of the passsengers.\n",
        "\n",
        "To do this, we will implement a RANDOM FOREST MODEL. \n"
      ]
    },
    {
      "cell_type": "code",
      "metadata": {
        "colab": {
          "base_uri": "https://localhost:8080/"
        },
        "id": "HqOWv2jpwmYh",
        "outputId": "953a0a99-b03b-49b1-e4f1-8def832035e9"
      },
      "source": [
        "from sklearn.ensemble import RandomForestClassifier\n",
        "\n",
        "y = train_data[\"Survived\"]\n",
        "\n",
        "features = [\"Pclass\", \"Sex\", \"SibSp\", \"Parch\"]\n",
        "X = pd.get_dummies(train_data[features])\n",
        "X_test = pd.get_dummies(test_data[features])\n",
        "\n",
        "model = RandomForestClassifier(n_estimators=100, max_depth=5, random_state=1)\n",
        "model.fit(X, y)\n",
        "predictions = model.predict(X_test)\n",
        "\n",
        "output = pd.DataFrame({'PassengerId': test_data.PassengerId, 'Survived': predictions})\n",
        "output.to_csv('my_submission.csv', index=False)\n",
        "print(\"Your submission was successfully saved!\")"
      ],
      "execution_count": 46,
      "outputs": [
        {
          "output_type": "stream",
          "text": [
            "Your submission was successfully saved!\n"
          ],
          "name": "stdout"
        }
      ]
    },
    {
      "cell_type": "markdown",
      "metadata": {
        "id": "bMse7Uok1C4-"
      },
      "source": [
        "This is how you submit a prediction to a competition."
      ]
    },
    {
      "cell_type": "code",
      "metadata": {
        "colab": {
          "base_uri": "https://localhost:8080/"
        },
        "id": "PgZnUS5X1Cf9",
        "outputId": "ccc69540-fc1b-4ed1-ff7c-dfd27467dee5"
      },
      "source": [
        "#!kaggle competitions submit -c [COMPETITION NAME] -f [FILE PATH]\n",
        "!kaggle competitions submit -c Titanic -f '/content/drive/MyDrive/kaggle/my_submission.csv' -m \"My first Random Forest Model Submission\""
      ],
      "execution_count": 59,
      "outputs": [
        {
          "output_type": "stream",
          "text": [
            "Warning: Looks like you're using an outdated API Version, please consider updating (server 1.5.12 / client 1.5.4)\n",
            "100% 2.77k/2.77k [00:00<00:00, 10.5kB/s]\n",
            "Successfully submitted to Titanic - Machine Learning from Disaster"
          ],
          "name": "stdout"
        }
      ]
    }
  ]
}