{
  "nbformat": 4,
  "nbformat_minor": 0,
  "metadata": {
    "colab": {
      "name": "Kaggle-TitanicCompetition.ipynb",
      "provenance": [],
      "mount_file_id": "19zrdErv02W5CTOduzdyDNWm7IJLgkLwu",
      "authorship_tag": "ABX9TyODe3rDv631DsFSOLqw7yVx",
      "include_colab_link": true
    },
    "kernelspec": {
      "name": "python3",
      "display_name": "Python 3"
    },
    "language_info": {
      "name": "python"
    }
  },
  "cells": [
    {
      "cell_type": "markdown",
      "metadata": {
        "id": "view-in-github",
        "colab_type": "text"
      },
      "source": [
        "<a href=\"https://colab.research.google.com/github/LarryDCJ/AC_Classifier/blob/master/Kaggle_TitanicCompetition.ipynb\" target=\"_parent\"><img src=\"https://colab.research.google.com/assets/colab-badge.svg\" alt=\"Open In Colab\"/></a>"
      ]
    },
    {
      "cell_type": "code",
      "metadata": {
        "id": "h9o_1YXYkWNr"
      },
      "source": [
        "from google.colab import drive\n",
        "import os\n",
        "import numpy as np #linear algebra tools\n",
        "import pandas as pd # data processing and CSV manipulation (r/w)\n",
        "drive.mount('/content/drive')\n",
        "os.environ['KAGGLE_CONFIG_DIR'] = \"/content/drive/MyDrive/kaggle\"\n",
        "\n",
        "#changing the working directory\n",
        "%cd /content/drive/MyDrive/kaggle\n",
        "!pwd"
      ],
      "execution_count": null,
      "outputs": []
    },
    {
      "cell_type": "code",
      "metadata": {
        "id": "BdPDlSzZ0Iw8"
      },
      "source": [
        "!kaggle competitions list"
      ],
      "execution_count": null,
      "outputs": []
    },
    {
      "cell_type": "code",
      "metadata": {
        "id": "B4Zy5LidnoPP"
      },
      "source": [
        "!kaggle datasets list -s Titanic"
      ],
      "execution_count": null,
      "outputs": []
    },
    {
      "cell_type": "code",
      "metadata": {
        "id": "PRHvkW9cpIlc"
      },
      "source": [
        "#User datasets\n",
        "!kaggle datasets download [USER/FILENAME]\n",
        "\n",
        "#I prefer this one\n",
        "!kaggle competitions download -c [COMPETITION]\n",
        "\n",
        "!unzip [FILENAME.zip]\n",
        "!ls"
      ],
      "execution_count": null,
      "outputs": []
    },
    {
      "cell_type": "markdown",
      "metadata": {
        "id": "yY_ME_Z2qhl9"
      },
      "source": [
        "https://towardsdatascience.com/how-to-search-and-download-data-using-kaggle-api-f815f7b98080\n",
        "\n",
        "This is the link for Kaggle+Colab instructions.\n"
      ]
    },
    {
      "cell_type": "code",
      "metadata": {
        "id": "Prh-9RK-rEKH"
      },
      "source": [
        "for dirname, _, filenames in os.walk('/kaggle/):\n",
        "    for filename in filenames:\n",
        "        print(os.path.join(dirname, filename))"
      ],
      "execution_count": null,
      "outputs": []
    },
    {
      "cell_type": "code",
      "metadata": {
        "id": "ZrZBL376r0nT"
      },
      "source": [
        "train_data = pd.read_csv(\"train.csv\")\n",
        "train_data.head()"
      ],
      "execution_count": null,
      "outputs": []
    },
    {
      "cell_type": "code",
      "metadata": {
        "id": "UDwEqOgAvMXk"
      },
      "source": [
        "test_data = pd.read_csv(\"test.csv\")\n",
        "test_data.head()"
      ],
      "execution_count": null,
      "outputs": []
    },
    {
      "cell_type": "code",
      "metadata": {
        "id": "PpwYJTyBvoEv"
      },
      "source": [
        "#This code lets us know the % of women that actually survived.\n",
        "#By grabbing all columns from the TRAIN dataset, we can divide the amount of surviving\n",
        "#women by the total amount of women, leaving us with about 74.2%.\n",
        "\n",
        "women = train_data.loc[train_data.Sex == 'female'][\"Survived\"]\n",
        "rate_women = sum(women)/len(women)\n",
        "\n",
        "print(\"% of women who survived:\", rate_women)"
      ],
      "execution_count": null,
      "outputs": []
    },
    {
      "cell_type": "code",
      "metadata": {
        "id": "Dc2XqUnSwYDl"
      },
      "source": [
        "#This does the same with men, coming to about 18.9% (RIP fellas).\n",
        "\n",
        "men = train_data.loc[train_data.Sex == 'male'][\"Survived\"]\n",
        "rate_men = sum(men)/len(men)\n",
        "\n",
        "print(\"% of men who survived:\", rate_men)"
      ],
      "execution_count": null,
      "outputs": []
    },
    {
      "cell_type": "markdown",
      "metadata": {
        "id": "hnAAYoqHwhT3"
      },
      "source": [
        "Why do you think the numbers are so heavily favored for women?\n",
        "\n",
        "Questioning your data and the simple metrics gleaned from the data can help guide deeper insight into the problems you have along with the solutions you're searching for."
      ]
    },
    {
      "cell_type": "markdown",
      "metadata": {
        "id": "Cf7XgA8tw9n_"
      },
      "source": [
        "To gain a better prediction, we can use the information from multiple columns rather than only basing our prediction on the sex of the passsengers.\n",
        "\n",
        "To do this, we will implement a RANDOM FOREST MODEL. \n"
      ]
    },
    {
      "cell_type": "code",
      "metadata": {
        "id": "HqOWv2jpwmYh"
      },
      "source": [
        "from sklearn.ensemble import RandomForestClassifier\n",
        "\n",
        "y = train_data[\"Survived\"]\n",
        "\n",
        "features = [\"Pclass\", \"Sex\", \"SibSp\", \"Parch\"]\n",
        "X = pd.get_dummies(train_data[features])\n",
        "X_test = pd.get_dummies(test_data[features])\n",
        "\n",
        "model = RandomForestClassifier(n_estimators=100, max_depth=5, random_state=1)\n",
        "model.fit(X, y)\n",
        "predictions = model.predict(X_test)\n",
        "\n",
        "output = pd.DataFrame({'PassengerId': test_data.PassengerId, 'Survived': predictions})\n",
        "output.to_csv('my_submission.csv', index=False)\n",
        "print(\"Your submission was successfully saved!\")"
      ],
      "execution_count": null,
      "outputs": []
    },
    {
      "cell_type": "markdown",
      "metadata": {
        "id": "bMse7Uok1C4-"
      },
      "source": [
        "This is how you submit a prediction to a competition."
      ]
    },
    {
      "cell_type": "code",
      "metadata": {
        "id": "PgZnUS5X1Cf9"
      },
      "source": [
        "#!kaggle competitions submit -c [COMPETITION NAME] -f [FILE PATH]\n",
        "!kaggle competitions submit -c Titanic -f '/content/drive/MyDrive/kaggle/my_submission.csv' -m \"My first Random Forest Model Submission\""
      ],
      "execution_count": null,
      "outputs": []
    },
    {
      "cell_type": "markdown",
      "metadata": {
        "id": "91YGfX_vAsjz"
      },
      "source": [
        "Now, we'll implement fast.ai instructions to work with tabular data. If you want to know more about fast.ai, check out their free MOOC here: https://course.fast.ai"
      ]
    },
    {
      "cell_type": "code",
      "metadata": {
        "id": "UWdCMPZLArxY"
      },
      "source": [
        "!pip install fastai\n",
        "!pip install nbdev\n",
        "import fastai\n",
        "from fastai.tabular.all import *\n",
        "from nbdev.showdoc import *"
      ],
      "execution_count": null,
      "outputs": []
    },
    {
      "cell_type": "code",
      "metadata": {
        "id": "GwfAyiLWCEJo"
      },
      "source": [
        "import os\n",
        "for dirname, _, filenames in os.walk('/content/drive/MyDrive/kaggle/'): \n",
        "  for filename in filenames: \n",
        "    print(os.path.join(dirname, filename))"
      ],
      "execution_count": null,
      "outputs": []
    },
    {
      "cell_type": "code",
      "metadata": {
        "id": "aglTS9yRGrad"
      },
      "source": [
        "fastai.__version__"
      ],
      "execution_count": null,
      "outputs": []
    },
    {
      "cell_type": "code",
      "metadata": {
        "id": "edhYZqYCG8zo"
      },
      "source": [
        "df_train = pd.read_csv('train.csv')\n",
        "print(df_train.shape, df_train.head())\n",
        "df_train.info()"
      ],
      "execution_count": null,
      "outputs": []
    },
    {
      "cell_type": "code",
      "metadata": {
        "id": "eGynjlWSHItx"
      },
      "source": [
        "df_test = pd.read_csv('test.csv')\n",
        "print(df_test.shape, df_test.head())\n",
        "df_test.info()"
      ],
      "execution_count": null,
      "outputs": []
    },
    {
      "cell_type": "code",
      "metadata": {
        "id": "f2KUM-JsHMC4"
      },
      "source": [
        ""
      ],
      "execution_count": null,
      "outputs": []
    }
  ]
}